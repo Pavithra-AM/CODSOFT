{
  "nbformat": 4,
  "nbformat_minor": 0,
  "metadata": {
    "colab": {
      "provenance": [],
      "authorship_tag": "ABX9TyOtaACxwexgRGHxm/A0nVSX",
      "include_colab_link": true
    },
    "kernelspec": {
      "name": "python3",
      "display_name": "Python 3"
    },
    "language_info": {
      "name": "python"
    }
  },
  "cells": [
    {
      "cell_type": "markdown",
      "metadata": {
        "id": "view-in-github",
        "colab_type": "text"
      },
      "source": [
        "<a href=\"https://colab.research.google.com/github/Pavithra-AM/CODSOFT/blob/main/Sentiment_Analysis_proj.ipynb\" target=\"_parent\"><img src=\"https://colab.research.google.com/assets/colab-badge.svg\" alt=\"Open In Colab\"/></a>"
      ]
    },
    {
      "cell_type": "code",
      "execution_count": 1,
      "metadata": {
        "colab": {
          "base_uri": "https://localhost:8080/"
        },
        "id": "7zNhfiptiMKy",
        "outputId": "6ca51ecd-e748-4780-aca9-a032eddffbc3"
      },
      "outputs": [
        {
          "output_type": "stream",
          "name": "stderr",
          "text": [
            "[nltk_data] Downloading package vader_lexicon to /root/nltk_data...\n"
          ]
        },
        {
          "output_type": "stream",
          "name": "stdout",
          "text": [
            "{'neg': 0.437, 'neu': 0.563, 'pos': 0.0, 'compound': -0.3252}\n",
            "Statement: I am very happy with the service. | Polarity: 1.0 | Subjectivity: 1.0\n",
            "Statement: This is the worst experience ever. | Polarity: -1.0 | Subjectivity: 1.0\n",
            "Statement: It's okay, not great but not bad either. | Polarity: 0.14999999999999997 | Subjectivity: 0.6388888888888888\n"
          ]
        }
      ],
      "source": [
        "import nltk\n",
        "from nltk.sentiment import SentimentIntensityAnalyzer\n",
        "nltk.download('vader_lexicon')\n",
        "\n",
        "#initilize the nltk\n",
        "sia=SentimentIntensityAnalyzer()\n",
        "\n",
        "text=\"i didn't liked the coffee\"\n",
        "t1=sia.polarity_scores(text)\n",
        "print(t1)\n",
        "\n",
        "\"\"\"\n",
        "**Using Textblob**\n",
        "TextBlob is a simple library for processing textual data, which provides an easy-to-use API for common natural language processing (NLP) tasks including sentiment analysis.\"\"\"\n",
        "\n",
        "from textblob import TextBlob\n",
        "\n",
        "def get_sentiment(text):\n",
        "    blob = TextBlob(text)\n",
        "    return blob.sentiment.polarity, blob.sentiment.subjectivity\n",
        "\n",
        "# Example usage\n",
        "new_statements = [\n",
        "    \"I am very happy with the service.\",\n",
        "    \"This is the worst experience ever.\",\n",
        "    \"It's okay, not great but not bad either.\"\n",
        "]\n",
        "\n",
        "for statement in new_statements:\n",
        "    polarity, subjectivity = get_sentiment(statement)\n",
        "    print(f\"Statement: {statement} | Polarity: {polarity} | Subjectivity: {subjectivity}\")"
      ]
    }
  ]
}